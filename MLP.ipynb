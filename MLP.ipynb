{
 "cells": [
  {
   "cell_type": "code",
   "execution_count": 1,
   "metadata": {},
   "outputs": [],
   "source": [
    "# import keras\n",
    "import numpy as np\n",
    "import tensorflow as tf\n",
    "from sklearn.metrics import accuracy_score\n",
    "import pickle"
   ]
  },
  {
   "cell_type": "code",
   "execution_count": 3,
   "metadata": {},
   "outputs": [],
   "source": [
    "model_path = '/home/tdtrinh11/model/'"
   ]
  },
  {
   "cell_type": "code",
   "execution_count": 2,
   "metadata": {},
   "outputs": [
    {
     "data": {
      "text/plain": [
       "'2.2.0'"
      ]
     },
     "execution_count": 2,
     "metadata": {},
     "output_type": "execute_result"
    }
   ],
   "source": [
    "tf.__version__"
   ]
  },
  {
   "cell_type": "code",
   "execution_count": 2,
   "metadata": {},
   "outputs": [],
   "source": [
    "from tensorflow.keras import Sequential\n",
    "from tensorflow.keras.layers import Dense"
   ]
  },
  {
   "cell_type": "code",
   "execution_count": 17,
   "metadata": {},
   "outputs": [],
   "source": [
    "# Parameters\n",
    "learning_rate = 0.001\n",
    "training_epochs = 15\n",
    "batch_size = 100\n",
    "display_step = 1\n",
    "\n",
    "# Network Parameters\n",
    "net_parameter = {\n",
    "    'n_input' : 5000,\n",
    "    'n_classes' : 10,\n",
    "    'hidden_list' : [16, 14, 12, 10, 8, 6],\n",
    "    'activation' : 'tanh'\n",
    "}"
   ]
  },
  {
   "cell_type": "code",
   "execution_count": 14,
   "metadata": {},
   "outputs": [],
   "source": [
    "class MLP(tf.keras.Model):\n",
    "    def __init__(self, net_parameter):\n",
    "        super(MLP, self).__init__()\n",
    "        self.model = tf.keras.Sequential()\n",
    "        self.model.add(Dense(net_parameter['hidden_list'][0],\n",
    "                       activation=net_parameter['activation'],\n",
    "                       input_shape=(net_parameter['n_input'], )))\n",
    "        for i in range(1, len(net_parameter['hidden_list'])):\n",
    "            self.model.add(Dense(net_parameter['hidden_list'][i],\n",
    "                           activation=net_parameter['activation'] ))\n",
    "        self.model.add(Dense(net_parameter['n_classes'], activation='softmax'))\n",
    "        \n",
    "        self.model.compile(optimizer='sgd', loss='mse',\n",
    "                     metrics=['accurancy'])\n",
    "        self.model.summary()\n",
    "    \n",
    "    def fit(self, X, y, epochs=50, batch_size=32, verbose=0):\n",
    "        try:\n",
    "            self.model.fit(X, y, epochs=50, batch_size=32, verbose=0)\n",
    "        except Exception as e:\n",
    "            print('Error in fit model')\n",
    "            print(e)\n",
    "            return False\n",
    "        return True\n",
    "    \n",
    "    def predict(self, inputs):\n",
    "        return self.model.predict(inputs)\n",
    "    \n",
    "    def evaluate(self, X, y, verbose=0):\n",
    "        return self.model.evaluate(X, y, verbose=0)"
   ]
  },
  {
   "cell_type": "code",
   "execution_count": 2,
   "metadata": {},
   "outputs": [
    {
     "name": "stdout",
     "output_type": "stream",
     "text": [
      "Load train set success\n",
      "Load val, test set success\n"
     ]
    }
   ],
   "source": [
    "from load_data import LoadData\n",
    "\n",
    "data = LoadData('./predata/Train', './predata/Test')\n",
    "X_train, y_train = data.load_train()\n",
    "X_val, y_val, X_test, y_test = data.load_test()"
   ]
  },
  {
   "cell_type": "code",
   "execution_count": null,
   "metadata": {},
   "outputs": [],
   "source": [
    "tfidf=pickle.load(open(model_path+'tfidf_min100_maxfeature5000.pkl','rb'))\n",
    "encoder=pickle.load(open(model_path+'label_binarizer.pkl', 'rb'))"
   ]
  },
  {
   "cell_type": "code",
   "execution_count": 18,
   "metadata": {},
   "outputs": [
    {
     "name": "stdout",
     "output_type": "stream",
     "text": [
      "Model: \"sequential\"\n",
      "_________________________________________________________________\n",
      "Layer (type)                 Output Shape              Param #   \n",
      "=================================================================\n",
      "dense (Dense)                (None, 16)                80016     \n",
      "_________________________________________________________________\n",
      "dense_1 (Dense)              (None, 14)                238       \n",
      "_________________________________________________________________\n",
      "dense_2 (Dense)              (None, 12)                180       \n",
      "_________________________________________________________________\n",
      "dense_3 (Dense)              (None, 10)                130       \n",
      "_________________________________________________________________\n",
      "dense_4 (Dense)              (None, 8)                 88        \n",
      "_________________________________________________________________\n",
      "dense_5 (Dense)              (None, 6)                 54        \n",
      "_________________________________________________________________\n",
      "dense_6 (Dense)              (None, 10)                70        \n",
      "=================================================================\n",
      "Total params: 80,776\n",
      "Trainable params: 80,776\n",
      "Non-trainable params: 0\n",
      "_________________________________________________________________\n"
     ]
    }
   ],
   "source": [
    "model = MLP(net_parameter)"
   ]
  }
 ],
 "metadata": {
  "kernelspec": {
   "display_name": "Python 3",
   "language": "python",
   "name": "python3"
  },
  "language_info": {
   "codemirror_mode": {
    "name": "ipython",
    "version": 3
   },
   "file_extension": ".py",
   "mimetype": "text/x-python",
   "name": "python",
   "nbconvert_exporter": "python",
   "pygments_lexer": "ipython3",
   "version": "3.7.6"
  }
 },
 "nbformat": 4,
 "nbformat_minor": 4
}
