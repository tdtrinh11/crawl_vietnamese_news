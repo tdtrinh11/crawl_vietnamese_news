{
 "cells": [
  {
   "cell_type": "code",
   "execution_count": 1,
   "metadata": {},
   "outputs": [],
   "source": [
    "import os\n",
    "cur_dir = os.getcwd()\n",
    "print(cur_dir)"
   ]
  },
  {
   "cell_type": "code",
   "execution_count": 2,
   "metadata": {},
   "outputs": [],
   "source": [
    "model_path = '/home/tdtrinh11/model'"
   ]
  },
  {
   "cell_type": "code",
   "execution_count": 3,
   "metadata": {},
   "outputs": [],
   "source": [
    "from sklearn.svm import SVC\n",
    "from sklearn.multiclass import OneVsRestClassifier\n",
    "from sklearn import metrics\n",
    "import numpy as np\n",
    "# import joblib\n",
    "# import pandas as pd\n",
    "import matplotlib.pyplot as plt"
   ]
  },
  {
   "cell_type": "code",
   "execution_count": 4,
   "metadata": {},
   "outputs": [
    {
     "name": "stdout",
     "output_type": "stream",
     "text": [
      "Load train set success\n",
      "Load val, test set success\n"
     ]
    }
   ],
   "source": [
    "from load_data import LoadData\n",
    "\n",
    "data = LoadData(os.path.join(cur_dir,'predata/Train'), os.path.join(cur_dir,'predata/Test'))\n",
    "X_train, y_train = data.load_train()\n",
    "X_val, y_val, X_test, y_test = data.load_test()"
   ]
  },
  {
   "cell_type": "code",
   "execution_count": 5,
   "metadata": {
    "scrolled": true
   },
   "outputs": [],
   "source": [
    "import pickle\n",
    "encoder = pickle.load(open(os.path.join(model_path,'label_encoder.pkl'),'rb'))"
   ]
  },
  {
   "cell_type": "code",
   "execution_count": 8,
   "metadata": {},
   "outputs": [],
   "source": [
    "tfidf=pickle.load(open(os.path.join(model_path,'tfidf_min100_maxfeature5000.pkl'),'rb'))"
   ]
  },
  {
   "cell_type": "code",
   "execution_count": 9,
   "metadata": {},
   "outputs": [],
   "source": [
    "X_train = tfidf.transform(X_train)\n",
    "X_val = tfidf.transform(X_val)\n",
    "X_test = tfidf.transform(X_test)\n",
    "\n",
    "y_train = encoder.transform(y_train)\n",
    "y_val = encoder.transform(y_val)\n",
    "y_test = encoder.transform(y_test)"
   ]
  },
  {
   "cell_type": "code",
   "execution_count": 8,
   "metadata": {},
   "outputs": [],
   "source": [
    "# hyperparameters\n",
    "\n",
    "# kernel = ['linear', 'rbf', 'poly', 'sigmoid']\n",
    "# kernel = ['rbf', 'poly', 'sigmoid']\n",
    "\n",
    "# C = [1,10,100,1000]\n",
    "# C = [1,10]\n",
    "\n",
    "# gamma = [1e-3, 1e-4]\n",
    "# gamma = [1e-3]"
   ]
  },
  {
   "cell_type": "code",
   "execution_count": null,
   "metadata": {},
   "outputs": [],
   "source": [
    "# for k in kernel:\n",
    "#     for c in C:\n",
    "#         for g in gamma:\n",
    "#             cft = OneVsRestClassifier(SVC(kernel=k, C=c, gamma=g))\n",
    "#             cft.fit(X_train, y_train)\n",
    "#             acc = (metrics.accuracy_score(cft.predict(X_val), y_val))\n",
    "#             line = \"With k = {}, c={}, gamma={} have accuracy: {}\\n\".format( \\\n",
    "#                     k,c,g,acc)\n",
    "#             with open('log/svm_tfidf_min100_maxfeature5000.txt', 'a') as f:\n",
    "#                 f.write(line)\n"
   ]
  },
  {
   "cell_type": "code",
   "execution_count": null,
   "metadata": {},
   "outputs": [],
   "source": [
    "k = 'linear'\n",
    "c = 1\n",
    "g = 1e-3\n",
    "\n",
    "cft = OneVsRestClassifier(SVC(kernel=k, C=c, gamma=g))\n",
    "cft.fit(X_train, y_train)\n",
    "pickle.dump(cft, open(os.path.join(cur_dir, 'svm.model'), 'wb'))"
   ]
  },
  {
   "cell_type": "code",
   "execution_count": 6,
   "metadata": {},
   "outputs": [],
   "source": [
    "cft = pickle.load(open(os.path.join(cur_dir, 'svm.model'), 'rb'))"
   ]
  },
  {
   "cell_type": "code",
   "execution_count": 10,
   "metadata": {},
   "outputs": [],
   "source": [
    "acc_val = metrics.accuracy_score(cft.predict(X_val), y_val)\n",
    "# f1_score = metrics.f1_score(cft.predict(X_val), y_val, average='samples')\n",
    "# prec = metrics.precision_score(cft.predict(X_val), y_val)\n",
    "# rec = metrics.recall(cft.predict(X_val), y_val)"
   ]
  },
  {
   "cell_type": "code",
   "execution_count": 11,
   "metadata": {},
   "outputs": [
    {
     "name": "stdout",
     "output_type": "stream",
     "text": [
      "0.9077451943314158\n"
     ]
    }
   ],
   "source": [
    "print(acc_val)"
   ]
  },
  {
   "cell_type": "code",
   "execution_count": null,
   "metadata": {},
   "outputs": [],
   "source": [
    "con_mat = metrics.confusion_matrix(cft.predict(X_val), y_val)\n",
    "con_mat"
   ]
  },
  {
   "cell_type": "code",
   "execution_count": null,
   "metadata": {},
   "outputs": [],
   "source": [
    "acc_test = metrics.accuracy_score(cft.predict(X_test), y_test)\n",
    "acc_test"
   ]
  },
  {
   "cell_type": "code",
   "execution_count": null,
   "metadata": {},
   "outputs": [],
   "source": [
    "con_mat = metrics.confusion_matrix(cft.predict(X_test), y_test)\n",
    "con_mat"
   ]
  }
 ],
 "metadata": {
  "kernelspec": {
   "display_name": "Python 3",
   "language": "python",
   "name": "python3"
  },
  "language_info": {
   "codemirror_mode": {
    "name": "ipython",
    "version": 3
   },
   "file_extension": ".py",
   "mimetype": "text/x-python",
   "name": "python",
   "nbconvert_exporter": "python",
   "pygments_lexer": "ipython3",
   "version": "3.7.6"
  }
 },
 "nbformat": 4,
 "nbformat_minor": 4
}
