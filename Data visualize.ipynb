{
 "cells": [
  {
   "cell_type": "code",
   "execution_count": 1,
   "metadata": {},
   "outputs": [],
   "source": [
    "from sklearn.svm import SVC\n",
    "from sklearn import metrics\n",
    "from present_label import present_label\n",
    "import numpy as np\n",
    "import pandas as pd\n",
    "import matplotlib.pyplot as plt"
   ]
  },
  {
   "cell_type": "code",
   "execution_count": 2,
   "metadata": {},
   "outputs": [
    {
     "data": {
      "text/plain": [
       "'/home/tdtrinh11/code/crawl_vietnamese_news'"
      ]
     },
     "execution_count": 2,
     "metadata": {},
     "output_type": "execute_result"
    }
   ],
   "source": [
    "import os\n",
    "os.getcwd()"
   ]
  },
  {
   "cell_type": "code",
   "execution_count": 2,
   "metadata": {},
   "outputs": [
    {
     "name": "stdout",
     "output_type": "stream",
     "text": [
      "Load train set success\n"
     ]
    }
   ],
   "source": [
    "from load_data import LoadData\n",
    "import pandas as pd\n",
    "\n",
    "data = LoadData('./predata/Train', './predata/Test')\n",
    "\n",
    "X_train, y_train = data.load_train()\n",
    "y_counts = pd.Series(y_train).value_counts()"
   ]
  },
  {
   "cell_type": "code",
   "execution_count": 3,
   "metadata": {},
   "outputs": [
    {
     "data": {
      "text/plain": [
       "KD      13561\n",
       "SK      11997\n",
       "TT      10814\n",
       "CTXH    10332\n",
       "KHCN     9879\n",
       "VH       7772\n",
       "GD       5775\n",
       "DS       5691\n",
       "PL       5268\n",
       "XC       4550\n",
       "dtype: int64"
      ]
     },
     "execution_count": 3,
     "metadata": {},
     "output_type": "execute_result"
    }
   ],
   "source": [
    "y_counts"
   ]
  },
  {
   "cell_type": "code",
   "execution_count": 11,
   "metadata": {
    "scrolled": true
   },
   "outputs": [
    {
     "name": "stdout",
     "output_type": "stream",
     "text": [
      "Load train set success\n"
     ]
    },
    {
     "data": {
      "image/png": "[encoded data removed]",
      "text/plain": [
       "<Figure size 432x288 with 1 Axes>"
      ]
     },
     "metadata": {
      "needs_background": "light"
     },
     "output_type": "display_data"
    }
   ],
   "source": [
    "from load_data import LoadData\n",
    "\n",
    "data = LoadData('./predata/Train', './predata/Test')\n",
    "\n",
    "X_train, y_train = data.load_train()\n",
    "y_counts = pd.Series(y_train).value_counts()\n",
    "\n",
    "x = list(y_counts.index)\n",
    "y = list(y_counts.values)\n",
    "\n",
    "plt.bar(x,y)\n",
    "plt.xlabel('Thể loại')\n",
    "plt.ylabel('Số lượng bản tin')\n",
    "plt.title('Tập huấn luyện')\n",
    "plt.savefig('train.png')\n",
    "plt.show()"
   ]
  },
  {
   "cell_type": "code",
   "execution_count": 5,
   "metadata": {},
   "outputs": [
    {
     "data": {
      "text/plain": [
       "85639"
      ]
     },
     "execution_count": 5,
     "metadata": {},
     "output_type": "execute_result"
    }
   ],
   "source": [
    "len(X_train)"
   ]
  },
  {
   "cell_type": "code",
   "execution_count": 4,
   "metadata": {},
   "outputs": [
    {
     "name": "stdout",
     "output_type": "stream",
     "text": [
      "Load val, test set success\n"
     ]
    },
    {
     "data": {
      "text/plain": [
       "(14254, 42720)"
      ]
     },
     "execution_count": 4,
     "metadata": {},
     "output_type": "execute_result"
    }
   ],
   "source": [
    "X_val, y_val, X_test, y_test = data.load_test()\n",
    "len(X_val), len(X_test)"
   ]
  },
  {
   "cell_type": "code",
   "execution_count": 5,
   "metadata": {},
   "outputs": [],
   "source": [
    "y_val_counts = pd.Series(y_val).value_counts()\n",
    "y_test_counts = pd.Series(y_test).value_counts()"
   ]
  },
  {
   "cell_type": "code",
   "execution_count": 6,
   "metadata": {},
   "outputs": [
    {
     "data": {
      "text/plain": [
       "KD      8938\n",
       "SK      8049\n",
       "TT      7192\n",
       "CTXH    6877\n",
       "KHCN    6534\n",
       "VH      5170\n",
       "GD      3853\n",
       "DS      3809\n",
       "PL      3516\n",
       "XC      3036\n",
       "dtype: int64"
      ]
     },
     "execution_count": 6,
     "metadata": {},
     "output_type": "execute_result"
    }
   ],
   "source": [
    "y_val_counts + y_test_counts"
   ]
  },
  {
   "cell_type": "code",
   "execution_count": 12,
   "metadata": {},
   "outputs": [
    {
     "data": {
      "image/png": "[encoded data removed]",
      "text/plain": [
       "<Figure size 432x288 with 1 Axes>"
      ]
     },
     "metadata": {
      "needs_background": "light"
     },
     "output_type": "display_data"
    }
   ],
   "source": [
    "y_counts=pd.Series(y_val).value_counts()\n",
    "y_counts_test = pd.Series(y_test).value_counts()\n",
    "\n",
    "x = list(y_counts.index)\n",
    "y = list(y_counts.values + y_counts_test.values)\n",
    "\n",
    "plt.bar(x,y)\n",
    "plt.xlabel('Thể loại')\n",
    "plt.ylabel('Số lượng bản tin')\n",
    "plt.title('Tập kiểm thử')\n",
    "plt.savefig('test.png')\n",
    "plt.show()"
   ]
  },
  {
   "cell_type": "code",
   "execution_count": 10,
   "metadata": {},
   "outputs": [
    {
     "data": {
      "text/plain": [
       "56974"
      ]
     },
     "execution_count": 10,
     "metadata": {},
     "output_type": "execute_result"
    }
   ],
   "source": [
    "sum(y)"
   ]
  },
  {
   "cell_type": "code",
   "execution_count": 7,
   "metadata": {},
   "outputs": [
    {
     "data": {
      "image/png": "[encoded data removed]",
      "text/plain": [
       "<Figure size 432x288 with 1 Axes>"
      ]
     },
     "metadata": {
      "needs_background": "light"
     },
     "output_type": "display_data"
    }
   ],
   "source": [
    "y_counts=pd.Series(y_test).value_counts()\n",
    "\n",
    "x = list(y_counts.index)\n",
    "y = list(y_counts.values)\n",
    "\n",
    "plt.bar(x,y)\n",
    "plt.xlabel('Categories')\n",
    "plt.ylabel('Number of sample')\n",
    "plt.title('Test set')\n",
    "plt.show()"
   ]
  }
 ],
 "metadata": {
  "kernelspec": {
   "display_name": "Python 3",
   "language": "python",
   "name": "python3"
  },
  "language_info": {
   "codemirror_mode": {
    "name": "ipython",
    "version": 3
   },
   "file_extension": ".py",
   "mimetype": "text/x-python",
   "name": "python",
   "nbconvert_exporter": "python",
   "pygments_lexer": "ipython3",
   "version": "3.7.6"
  }
 },
 "nbformat": 4,
 "nbformat_minor": 4
}
